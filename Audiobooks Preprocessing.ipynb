{
 "cells": [
  {
   "cell_type": "code",
   "execution_count": 2,
   "id": "c7ce4772",
   "metadata": {},
   "outputs": [],
   "source": [
    "import numpy as np\n",
    "from sklearn import preprocessing\n",
    "\n",
    "raw_csv_data = np.loadtxt(\"Audiobooks_data.csv\", delimiter=',')"
   ]
  },
  {
   "cell_type": "markdown",
   "id": "d39a36c1",
   "metadata": {},
   "source": [
    "### Extract the input from the dataset"
   ]
  },
  {
   "cell_type": "code",
   "execution_count": 7,
   "id": "2273f205",
   "metadata": {},
   "outputs": [],
   "source": [
    "unscaled_inputs = raw_csv_data[:,1:-1]"
   ]
  },
  {
   "cell_type": "code",
   "execution_count": 4,
   "id": "032d7568",
   "metadata": {},
   "outputs": [],
   "source": [
    "target = raw_csv_data[:,-1]"
   ]
  },
  {
   "cell_type": "markdown",
   "id": "d525b18c",
   "metadata": {},
   "source": [
    "### Dataset Balancing "
   ]
  },
  {
   "cell_type": "code",
   "execution_count": 5,
   "id": "d5a0a8cb",
   "metadata": {},
   "outputs": [],
   "source": [
    "# In building a machine learning model, balancing the dataset in very important\n",
    "# ... so as to prevent us from have low accuracy"
   ]
  },
  {
   "cell_type": "code",
   "execution_count": 6,
   "id": "de1f9ae9",
   "metadata": {},
   "outputs": [],
   "source": [
    "num_one_target = int(np.sum(target))\n",
    "zero_target_counter = 0\n",
    "indices_to_remove = []\n",
    "\n",
    "for i in range(target.shape[0]): #loop through each index in the target array\n",
    "    if target[i] == 0: #check if the current target is equals zero\n",
    "        zero_target_counter +=1\n",
    "        if zero_target_counter > num_one_target:\n",
    "            indices_to_remove.append(i)"
   ]
  },
  {
   "cell_type": "code",
   "execution_count": 8,
   "id": "2ac438b7",
   "metadata": {},
   "outputs": [],
   "source": [
    "unscaled_inputs_equal_priors = np.delete(unscaled_inputs, indices_to_remove, axis=0)"
   ]
  },
  {
   "cell_type": "code",
   "execution_count": 9,
   "id": "518490eb",
   "metadata": {},
   "outputs": [],
   "source": [
    "target_equal_priors = np.delete(target, indices_to_remove, axis=0)"
   ]
  },
  {
   "cell_type": "code",
   "execution_count": 11,
   "id": "df132834",
   "metadata": {},
   "outputs": [
    {
     "data": {
      "text/plain": [
       "array([[1620.  , 1620.  ,   19.73, ..., 1603.8 ,    5.  ,   92.  ],\n",
       "       [2160.  , 2160.  ,    5.33, ...,    0.  ,    0.  ,    0.  ],\n",
       "       [2160.  , 2160.  ,    5.33, ...,    0.  ,    0.  ,  388.  ],\n",
       "       ...,\n",
       "       [2160.  , 2160.  ,    5.33, ...,    0.  ,    0.  ,    6.  ],\n",
       "       [1674.  , 3348.  ,    7.99, ...,    0.  ,    0.  ,    0.  ],\n",
       "       [1674.  , 3348.  ,    5.33, ...,    0.  ,    0.  ,    0.  ]])"
      ]
     },
     "execution_count": 11,
     "metadata": {},
     "output_type": "execute_result"
    }
   ],
   "source": [
    "unscaled_inputs_equal_priors"
   ]
  },
  {
   "cell_type": "markdown",
   "id": "8c0b3abc",
   "metadata": {},
   "source": [
    "### More Explanation\n",
    "1. The loop iterates through the target array index-by-index.\n",
    "2. Whenever a 0 is encountered, the zero_target_counter increases.\n",
    "3. If zero_target_counter exceeds num_one_target (i.e there are more 0 than 1), the index of that extra 0 is saved in indices_to_remove.\n",
    "4. After this a typical removal of the extra rows of the 0s is carried out in both the target and the input(features) as seen in line 8 & 9."
   ]
  },
  {
   "cell_type": "markdown",
   "id": "a1932a57",
   "metadata": {},
   "source": [
    "### Standardization  of the input"
   ]
  },
  {
   "cell_type": "code",
   "execution_count": 12,
   "id": "f2108d30",
   "metadata": {},
   "outputs": [],
   "source": [
    "scaled_inputs = preprocessing.scale(unscaled_inputs_equal_priors)"
   ]
  },
  {
   "cell_type": "markdown",
   "id": "180c1d03",
   "metadata": {},
   "source": [
    "### Performing Data Shuffling"
   ]
  },
  {
   "cell_type": "code",
   "execution_count": 13,
   "id": "77beecab",
   "metadata": {},
   "outputs": [],
   "source": [
    "shuffled_indices = np.arange(scaled_inputs.shape[0])\n",
    "np.random.shuffle(shuffled_indices)\n",
    "\n",
    "shuffled_inputs = scaled_inputs[shuffled_indices]\n",
    "shuffled_target = target_equal_priors[shuffled_indices]"
   ]
  },
  {
   "cell_type": "markdown",
   "id": "baf75673",
   "metadata": {},
   "source": [
    "### Data splitting"
   ]
  },
  {
   "cell_type": "code",
   "execution_count": 16,
   "id": "f6618617",
   "metadata": {},
   "outputs": [],
   "source": [
    "samples_count = shuffled_inputs.shape[0]\n",
    "\n",
    "train_samples_count = int(0.8*samples_count)\n",
    "validation_samples_count = int(0.1*samples_count)\n",
    "test_samples_count = samples_count - train_samples_count - validation_samples_count"
   ]
  },
  {
   "cell_type": "code",
   "execution_count": 21,
   "id": "09819f26",
   "metadata": {},
   "outputs": [],
   "source": [
    "train_inputs = shuffled_inputs[:train_samples_count]\n",
    "train_target = shuffled_target[:train_samples_count]\n",
    "\n",
    "validation_inputs = shuffled_inputs[train_samples_count:train_samples_count+validation_samples_count]\n",
    "validation_target = shuffled_target[train_samples_count:train_samples_count+validation_samples_count]\n",
    "\n",
    "test_inputs = shuffled_inputs[train_samples_count+validation_samples_count:]\n",
    "test_target = shuffled_target[train_samples_count+validation_samples_count:]"
   ]
  },
  {
   "cell_type": "code",
   "execution_count": 22,
   "id": "fd2cceae",
   "metadata": {},
   "outputs": [
    {
     "name": "stdout",
     "output_type": "stream",
     "text": [
      "1801.0 3579 0.5032131880413523\n",
      "226.0 447 0.5055928411633109\n",
      "210.0 448 0.46875\n"
     ]
    }
   ],
   "source": [
    "print(np.sum(train_target), train_samples_count, np.sum(train_target)/train_samples_count)\n",
    "print(np.sum(validation_target), validation_samples_count, np.sum(validation_target)/validation_samples_count)\n",
    "print(np.sum(test_target), test_samples_count, np.sum(test_target)/test_samples_count)"
   ]
  },
  {
   "cell_type": "markdown",
   "id": "da8e71be",
   "metadata": {},
   "source": [
    "This code prints statistics about the distribution of class labels (0s and 1s) in the training, validation, and test datasets"
   ]
  },
  {
   "cell_type": "code",
   "execution_count": 23,
   "id": "e0adda90",
   "metadata": {},
   "outputs": [],
   "source": [
    "np.savez(\"Audiobooks_data_train\", inputs = train_inputs, targets = train_target)\n",
    "np.savez(\"Audiobooks_data_validation\", inputs = validation_inputs, targets = validation_target)\n",
    "np.savez(\"Audiobooks_data_test\", inputs = test_inputs, targets = test_target)"
   ]
  },
  {
   "cell_type": "markdown",
   "id": "0a23ccfd",
   "metadata": {},
   "source": [
    "### Creating the machine learning algorithm"
   ]
  },
  {
   "cell_type": "code",
   "execution_count": 24,
   "id": "63a1aca9",
   "metadata": {},
   "outputs": [],
   "source": [
    "import tensorflow as tf"
   ]
  },
  {
   "cell_type": "markdown",
   "id": "6b73cfcb",
   "metadata": {},
   "source": [
    "#### Loading the npz Files"
   ]
  },
  {
   "cell_type": "code",
   "execution_count": 28,
   "id": "9fade014",
   "metadata": {},
   "outputs": [],
   "source": [
    "npz = np.load(\"Audiobooks_data_train.npz\")\n",
    "\n",
    "train_inputs = npz[\"inputs\"].astype(np.float32)\n",
    "train_target = npz[\"targets\"].astype(np.int32)\n",
    "\n",
    "npz = np.load(\"Audiobooks_data_validation.npz\")\n",
    "\n",
    "validation_inputs, validation_target = npz[\"inputs\"].astype(np.float32), npz[\"targets\"].astype(np.int32)\n",
    "\n",
    "npz = np.load(\"Audiobooks_data_test.npz\")\n",
    "\n",
    "test_inputs, test_target = npz[\"inputs\"].astype(np.float32), npz[\"targets\"].astype(np.int32)"
   ]
  },
  {
   "cell_type": "markdown",
   "id": "7d3a2697",
   "metadata": {},
   "source": [
    "#### Model"
   ]
  },
  {
   "cell_type": "code",
   "execution_count": 45,
   "id": "6ef919fd",
   "metadata": {},
   "outputs": [],
   "source": [
    "input_size = 10\n",
    "output_size = 2\n",
    "hidden_layer_size = 100\n",
    "\n",
    "model = tf.keras.Sequential([\n",
    "                            tf.keras.layers.Dense(hidden_layer_size, activation=\"relu\"),\n",
    "                            tf.keras.layers.Dense(hidden_layer_size, activation=\"relu\"),\n",
    "                            tf.keras.layers.Dense(hidden_layer_size, activation=\"relu\"),\n",
    "                            tf.keras.layers.Dense(hidden_layer_size, activation=\"relu\"),\n",
    "                            tf.keras.layers.Dense(hidden_layer_size, activation=\"relu\"),\n",
    "                            tf.keras.layers.Dense(output_size, activation=\"softmax\")\n",
    "                            ])\n",
    "\n",
    "model.compile(optimizer='adam', loss='sparse_categorical_crossentropy', metrics=['accuracy'])"
   ]
  },
  {
   "cell_type": "markdown",
   "id": "94e188f4",
   "metadata": {},
   "source": [
    "### Model Fitting and Early stopping mechanism "
   ]
  },
  {
   "cell_type": "code",
   "execution_count": 46,
   "id": "07eb850d",
   "metadata": {},
   "outputs": [
    {
     "name": "stdout",
     "output_type": "stream",
     "text": [
      "Epoch 1/100\n",
      "36/36 - 2s - loss: 0.4967 - accuracy: 0.7365 - val_loss: 0.4246 - val_accuracy: 0.7673 - 2s/epoch - 54ms/step\n",
      "Epoch 2/100\n",
      "36/36 - 0s - loss: 0.3841 - accuracy: 0.7888 - val_loss: 0.4226 - val_accuracy: 0.7875 - 176ms/epoch - 5ms/step\n",
      "Epoch 3/100\n",
      "36/36 - 0s - loss: 0.3623 - accuracy: 0.8050 - val_loss: 0.4150 - val_accuracy: 0.7785 - 175ms/epoch - 5ms/step\n",
      "Epoch 4/100\n",
      "36/36 - 0s - loss: 0.3530 - accuracy: 0.8030 - val_loss: 0.3651 - val_accuracy: 0.8143 - 174ms/epoch - 5ms/step\n",
      "Epoch 5/100\n",
      "36/36 - 0s - loss: 0.3452 - accuracy: 0.8039 - val_loss: 0.3622 - val_accuracy: 0.8166 - 174ms/epoch - 5ms/step\n",
      "Epoch 6/100\n",
      "36/36 - 0s - loss: 0.3379 - accuracy: 0.8114 - val_loss: 0.3888 - val_accuracy: 0.8098 - 171ms/epoch - 5ms/step\n",
      "Epoch 7/100\n",
      "36/36 - 0s - loss: 0.3354 - accuracy: 0.8164 - val_loss: 0.3785 - val_accuracy: 0.8166 - 230ms/epoch - 6ms/step\n"
     ]
    },
    {
     "data": {
      "text/plain": [
       "<keras.src.callbacks.History at 0x2698540ffa0>"
      ]
     },
     "execution_count": 46,
     "metadata": {},
     "output_type": "execute_result"
    }
   ],
   "source": [
    "batch_size = 100\n",
    "\n",
    "max_epochs = 100\n",
    "\n",
    "early_stopping = tf.keras.callbacks.EarlyStopping(patience=2)\n",
    "\n",
    "model.fit(train_inputs,\n",
    "         train_target, \n",
    "         batch_size=batch_size,\n",
    "         epochs=max_epochs,\n",
    "         callbacks = [early_stopping],\n",
    "         validation_data=(validation_inputs, validation_target),\n",
    "         verbose=2)"
   ]
  },
  {
   "cell_type": "markdown",
   "id": "06a02c5a",
   "metadata": {},
   "source": [
    "### Testing the model"
   ]
  },
  {
   "cell_type": "code",
   "execution_count": 47,
   "id": "56ab68c0",
   "metadata": {},
   "outputs": [
    {
     "name": "stdout",
     "output_type": "stream",
     "text": [
      "14/14 [==============================] - 0s 3ms/step - loss: 0.3537 - accuracy: 0.8125\n"
     ]
    }
   ],
   "source": [
    "test_loss, test_accuracy = model.evaluate(test_inputs, test_target)"
   ]
  },
  {
   "cell_type": "code",
   "execution_count": 49,
   "id": "b47fe378",
   "metadata": {},
   "outputs": [
    {
     "name": "stdout",
     "output_type": "stream",
     "text": [
      "Test loss 0.3537352383136749 and the test accuracy 81.25%\n"
     ]
    }
   ],
   "source": [
    "print(f\"Test loss {test_loss} and the test accuracy {test_accuracy*100}%\")"
   ]
  },
  {
   "cell_type": "code",
   "execution_count": null,
   "id": "86b19aad",
   "metadata": {},
   "outputs": [],
   "source": []
  }
 ],
 "metadata": {
  "kernelspec": {
   "display_name": "Python (your_environment_name)",
   "language": "python",
   "name": "tf2"
  },
  "language_info": {
   "codemirror_mode": {
    "name": "ipython",
    "version": 3
   },
   "file_extension": ".py",
   "mimetype": "text/x-python",
   "name": "python",
   "nbconvert_exporter": "python",
   "pygments_lexer": "ipython3",
   "version": "3.8.20"
  }
 },
 "nbformat": 4,
 "nbformat_minor": 5
}
